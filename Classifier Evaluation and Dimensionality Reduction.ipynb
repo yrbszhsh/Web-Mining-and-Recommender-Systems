{
 "cells": [
  {
   "cell_type": "markdown",
   "metadata": {},
   "source": [
    "# CSE 258 HW 2\n",
    "## Pin Tian A53219987"
   ]
  },
  {
   "cell_type": "code",
   "execution_count": 1,
   "metadata": {},
   "outputs": [
    {
     "name": "stdout",
     "output_type": "stream",
     "text": [
      "Reading data...\n",
      "done\n"
     ]
    }
   ],
   "source": [
    "import numpy as np\n",
    "from urllib.request import urlopen\n",
    "import scipy.optimize\n",
    "from math import exp\n",
    "from math import log\n",
    "import matplotlib.pyplot as plt\n",
    "\n",
    "def parseData(fname):\n",
    "    for l in urlopen(fname):\n",
    "        yield eval(l)\n",
    "\n",
    "print(\"Reading data...\")\n",
    "data = list(parseData(\"http://jmcauley.ucsd.edu/cse190/data/beer/beer_50000.json\"))\n",
    "print(\"done\")"
   ]
  },
  {
   "cell_type": "code",
   "execution_count": 2,
   "metadata": {},
   "outputs": [
    {
     "name": "stdout",
     "output_type": "stream",
     "text": [
      "done\n"
     ]
    }
   ],
   "source": [
    "def inner(x,y):\n",
    "    return sum([x[i]*y[i] for i in range(len(x))])\n",
    "\n",
    "def sigmoid(x):\n",
    "    return 1.0 / (1 + np.exp(-x))\n",
    "\n",
    "##################################################\n",
    "# Logistic regression by gradient ascent         #\n",
    "##################################################\n",
    "# NEGATIVE Log-likelihood\n",
    "def f(theta, X, y, lam):\n",
    "    loglikelihood = 0\n",
    "    for i in range(len(X)):\n",
    "        logit = inner(X[i], theta)\n",
    "        loglikelihood -= log(1 + exp(-logit))\n",
    "        if not y[i]:\n",
    "            loglikelihood -= logit\n",
    "    for k in range(len(theta)):\n",
    "        loglikelihood -= lam * theta[k]*theta[k]\n",
    "    # for debugging\n",
    "#     print(\"ll =\" + str(loglikelihood))\n",
    "    return -loglikelihood\n",
    "\n",
    "# NEGATIVE Derivative of log-likelihood\n",
    "def fprime(theta, X, y, lam):\n",
    "    dl = [0]*len(theta)\n",
    "    for i in range(len(X)):\n",
    "        logit = inner(X[i], theta)\n",
    "        for k in range(len(theta)):\n",
    "            dl[k] += X[i][k] * (1 - sigmoid(logit))\n",
    "            if not y[i]:\n",
    "                dl[k] -= X[i][k]\n",
    "    for k in range(len(theta)):\n",
    "        dl[k] -= lam*2*theta[k]\n",
    "    return np.array([-x for x in dl])\n",
    "\n",
    "\n",
    "\n",
    "##################################################\n",
    "# Train                                          #\n",
    "##################################################\n",
    "\n",
    "def train(lam):\n",
    "    theta,_,_ = scipy.optimize.fmin_l_bfgs_b(f, [0]*len(X[0]), fprime, pgtol = 10, \n",
    "                                             args = (X_train, y_train, lam))\n",
    "    return theta\n",
    "\n",
    "##################################################\n",
    "# Predict                                        #\n",
    "##################################################\n",
    "\n",
    "def performance(theta,X,y):\n",
    "    scores = [inner(theta,x) for x in X]\n",
    "    predictions = [s > 0 for s in scores]\n",
    "    correct = [(a==b) for (a,b) in zip(predictions,y)]\n",
    "    acc = sum(correct) * 1.0 / len(correct)\n",
    "    return acc\n",
    "\n",
    "def BER(theta,X,y):\n",
    "    scores = [inner(theta,x) for x in X]\n",
    "    predictions = [s > 0 for s in scores]\n",
    "    tp = sum([(a==b==True) for (a,b) in zip(predictions,y)])\n",
    "    tn = sum([(a==b==False) for (a,b) in zip(predictions,y)])\n",
    "    fp = sum([(a==True and b==False) for (a,b) in zip(predictions,y)])\n",
    "    fn = sum([(a==False and b==True) for (a,b) in zip(predictions,y)])\n",
    "    ber = 1.0 - 0.5*tp/(fn+tp)-0.5*tn/(fp+tn)\n",
    "    return ber,tp,tn,fp,fn\n",
    "print ('done')"
   ]
  },
  {
   "cell_type": "markdown",
   "metadata": {},
   "source": [
    "## Problem 1\n",
    "\n",
    "We got a very weird results and the reason, I think,is that the imbalance of the data"
   ]
  },
  {
   "cell_type": "code",
   "execution_count": 3,
   "metadata": {},
   "outputs": [],
   "source": [
    "def feature(datum):\n",
    "    feat = [1, datum['review/taste'], datum['review/appearance'], datum['review/aroma'], \n",
    "          datum['review/palate'], datum['review/overall']]\n",
    "    return feat\n",
    "\n",
    "X = [feature(d) for d in data]\n",
    "y = [d['beer/ABV'] >= 6.5 for d in data]"
   ]
  },
  {
   "cell_type": "code",
   "execution_count": 4,
   "metadata": {
    "scrolled": true
   },
   "outputs": [
    {
     "name": "stdout",
     "output_type": "stream",
     "text": [
      "Theta:\n",
      "[-4.40507927  0.59370219  0.34404315  0.81246286  0.57522903 -1.06525496]\n",
      "Validation Sets:\tlambda = 1.0\taccuracy = 90.03%\n",
      "Test Sets:\t\tlambda = 1.0\taccuracy = 57.78%\n"
     ]
    }
   ],
   "source": [
    "def feature(datum):\n",
    "    feat = [1, datum['review/taste'], datum['review/appearance'], datum['review/aroma'], \n",
    "          datum['review/palate'], datum['review/overall']]\n",
    "    return feat\n",
    "\n",
    "X = [feature(d) for d in data]\n",
    "y = [d['beer/ABV'] >= 6.5 for d in data]\n",
    "\n",
    "length = len(X)\n",
    "X_train = X[:int(length/3)]\n",
    "X_validation = X[int(length/3):int(2*length/3)]\n",
    "X_test = X[int(length*2/3):]\n",
    "y_train = y[:int(length/3)]\n",
    "y_validation = y[int(length/3):int(2*length/3)]\n",
    "y_test = y[int(length*2/3):]\n",
    "\n",
    "##################################################\n",
    "# Validation pipeline                            #\n",
    "##################################################\n",
    "\n",
    "lam = 1.0\n",
    "\n",
    "theta = train(lam)\n",
    "print(\"Theta:\")\n",
    "print(theta)\n",
    "\n",
    "acc_validation = performance(theta,X_validation,y_validation)\n",
    "print ('Validation Sets:\\tlambda = %.1f\\taccuracy = %.2f%%' % \n",
    "       (lam, acc_validation * 100))\n",
    "\n",
    "acc_test = performance(theta,X_test,y_test)\n",
    "print ('Test Sets:\\t\\tlambda = %.1f\\taccuracy = %.2f%%' % (lam, acc_test * 100))"
   ]
  },
  {
   "cell_type": "markdown",
   "metadata": {},
   "source": [
    "## Problem 2\n",
    "\n",
    "Using the stemming method, I create a new feature. We can see that the accuracy of validation sets increases but the accuracy of test sets decreases obviously."
   ]
  },
  {
   "cell_type": "code",
   "execution_count": 5,
   "metadata": {},
   "outputs": [
    {
     "name": "stdout",
     "output_type": "stream",
     "text": [
      "done\n"
     ]
    }
   ],
   "source": [
    "import re\n",
    "from collections import Counter\n",
    "from nltk.stem.porter import *\n",
    "review_text = [d['review/text'] for d in data]\n",
    "def feature(datum):\n",
    "    stemmer = PorterStemmer()\n",
    "    words = re.sub(r'[^\\w]', ' ', datum.lower())\n",
    "    stemmer.stem(words)\n",
    "    words = words.split()\n",
    "    count = Counter(words)\n",
    "    feat = [1, count['lactic'], count['tart'], count['sour'], \n",
    "            count['citric'], count['sweet'],count['acid'],\n",
    "            count['hop'],count['fruit'],count['salt'],count['spicy']]\n",
    "    return feat\n",
    "\n",
    "X = [feature(d) for d in review_text]\n",
    "y = [d['beer/ABV'] >= 6.5 for d in data]\n",
    "print(\"done\")"
   ]
  },
  {
   "cell_type": "code",
   "execution_count": 6,
   "metadata": {},
   "outputs": [
    {
     "name": "stdout",
     "output_type": "stream",
     "text": [
      "Theta:\n",
      "[ 0.05495591  0.0089072   0.05047197 -0.12232022 -0.06518794  0.27678588\n",
      "  0.02316593 -0.00456406  0.40198768 -0.00350025  0.00462623]\n",
      "Validation Sets:\tlambda = 1.0\taccuracy = 94.14%\n",
      "Test Sets:\t\tlambda = 1.0\taccuracy = 36.58%\n"
     ]
    }
   ],
   "source": [
    "X_train = X[:int(length/3)]\n",
    "X_validation = X[int(length/3):int(length*2/3)]\n",
    "X_test = X[int(length*2/3):]\n",
    "y_train = y[:int(length/3)]\n",
    "y_validation = y[int(length/3):int(length*2/3)]\n",
    "y_test = y[int(length*2/3):]\n",
    "\n",
    "##################################################\n",
    "# Validation pipeline                            #\n",
    "##################################################\n",
    "\n",
    "lam = 1.0\n",
    "\n",
    "theta = train(lam)\n",
    "print (\"Theta:\")\n",
    "print (theta)\n",
    "\n",
    "acc_validation = performance(theta,X_validation,y_validation)\n",
    "print ('Validation Sets:\\tlambda = %.1f\\taccuracy = %.2f%%' % \n",
    "       (lam, acc_validation * 100))\n",
    "\n",
    "acc_test = performance(theta,X_test,y_test)\n",
    "print ('Test Sets:\\t\\tlambda = %.1f\\taccuracy = %.2f%%' % \n",
    "       (lam, acc_test * 100))"
   ]
  },
  {
   "cell_type": "markdown",
   "metadata": {},
   "source": [
    "## Problem 3"
   ]
  },
  {
   "cell_type": "code",
   "execution_count": 7,
   "metadata": {},
   "outputs": [
    {
     "name": "stdout",
     "output_type": "stream",
     "text": [
      "The number of true positives:\t5806\n",
      "The number of true negatives:\t290\n",
      "The number of false positives:\t10465\n",
      "The number of false negatives:\t106\n",
      "The Balanced Error Rate of the classifier on the test set:\tBER = 49.55%\n"
     ]
    }
   ],
   "source": [
    "ber,tp,tn,fp,fn = BER(theta,X_test,y_test)\n",
    "print (\"The number of true positives:\\t\" + str(tp))\n",
    "print (\"The number of true negatives:\\t\" + str(tn))\n",
    "print (\"The number of false positives:\\t\" + str(fp))\n",
    "print (\"The number of false negatives:\\t\" + str(fn))\n",
    "print ('The Balanced Error Rate of the classifier on \\\n",
    "the test set:\\tBER = %.2f%%' % (ber * 100))"
   ]
  },
  {
   "cell_type": "markdown",
   "metadata": {},
   "source": [
    "## Problem 4\n",
    "\n",
    "Below is the revised weighted likelihood logistic regression function based on the fomula in piazza provied by TA.\n",
    "\n",
    "We can see that the BER decreases which means the data becomes more balanced than initial one."
   ]
  },
  {
   "cell_type": "code",
   "execution_count": 18,
   "metadata": {},
   "outputs": [],
   "source": [
    "# NEGATIVE Log-likelihood\n",
    "def f1(theta, X, y, lam):\n",
    "    loglikelihood = 0\n",
    "    num_t = sum(y)\n",
    "    for i in range(len(X)):\n",
    "        logit = inner(X[i], theta)\n",
    "        #if lam == 1:\n",
    "        #    print (sigmoid(logit))\n",
    "        if y[i]:\n",
    "            loglikelihood += np.log(sigmoid(logit))*len(y)/(2*num_t)\n",
    "        else:\n",
    "            loglikelihood += np.log(1 - sigmoid(logit))*len(y)/(2*(len(y)-num_t))\n",
    "    for k in range(len(theta)):\n",
    "        loglikelihood -= lam * theta[k]*theta[k]\n",
    "    # for debugging\n",
    "    print(\"ll =\" + str(loglikelihood))\n",
    "    return -loglikelihood\n",
    "\n",
    "# NEGATIVE Derivative of log-likelihood\n",
    "def fprime1(theta, X, y, lam):\n",
    "    num_t = sum(y)\n",
    "    dl = [0]*len(theta)\n",
    "    for i in range(len(X)):\n",
    "        logit = inner(X[i], theta)\n",
    "        for k in range(len(theta)):\n",
    "            if y[i]:\n",
    "                dl[k] += X[i][k] * (1 - sigmoid(logit))*len(y)/(2*num_t)\n",
    "            else:\n",
    "                dl[k] -= X[i][k] * sigmoid(logit)*len(y)/(2*(len(y)-num_t))\n",
    "    for k in range(len(theta)):\n",
    "        dl[k] -= lam*2*theta[k]\n",
    "    return np.array([-x for x in dl])\n",
    "\n",
    "def train1(lam):\n",
    "    theta,_,_ = scipy.optimize.fmin_l_bfgs_b(f1, [0]*len(X[0]), fprime1, \n",
    "                                             pgtol = 10, args = (X_train, y_train, lam))\n",
    "    return theta"
   ]
  },
  {
   "cell_type": "code",
   "execution_count": 19,
   "metadata": {},
   "outputs": [
    {
     "name": "stdout",
     "output_type": "stream",
     "text": [
      "ll =-11551.990911213648\n",
      "ll =-12204.0383706111\n",
      "ll =-11446.1663541375\n",
      "ll =-11394.892982016388\n",
      "ll =-11370.217356722245\n",
      "ll =-11357.996071816313\n",
      "ll =-11351.821113572705\n",
      "ll =-11350.095906291543\n",
      "ll =-11348.926420022355\n",
      "ll =-11348.2079556363\n",
      "Theta:\n",
      "[-0.17202488  0.02642727  0.36315843 -0.19203621 -0.14481634  0.24089245\n",
      "  0.00976002 -0.02653605  0.46849656 -0.03923761 -0.09551067]\n",
      "\n",
      "\n",
      "Train sets\n",
      "The number of true positives:\t4745\n",
      "The number of true negatives:\t4168\n",
      "The number of false positives:\t2121\n",
      "The number of false negatives:\t5632\n",
      "The Balanced Error Rate of the classifier:\tBER =44.00%\n",
      "\n",
      "\n",
      "Validation sets\n",
      "The number of true positives:\t4855\n",
      "The number of true negatives:\t4142\n",
      "The number of false positives:\t2139\n",
      "The number of false negatives:\t5531\n",
      "The Balanced Error Rate of the classifier:\tBER = 43.65%\n",
      "\n",
      "\n",
      "Test sets\n",
      "The number of true positives:\t4749\n",
      "The number of true negatives:\t4135\n",
      "The number of false positives:\t2126\n",
      "The number of false negatives:\t5657\n",
      "The Balanced Error Rate of the classifier:\tBER =44.16%\n"
     ]
    }
   ],
   "source": [
    "from random import shuffle\n",
    "randInd = np.arange(length)\n",
    "np.random.shuffle(randInd)\n",
    "X_res = [X[ind] for ind in randInd]\n",
    "y_res = [y[ind] for ind in randInd]\n",
    "\n",
    "X_train = X_res[:int(length/3)]\n",
    "X_validation = X_res[int(length/3):int(length*2/3)]\n",
    "X_test = X_res[int(length*2/3):]\n",
    "y_train = y_res[:int(length/3)]\n",
    "y_validation = y_res[int(length/3):int(length*2/3)]\n",
    "y_test = y_res[int(length*2/3):]\n",
    "\n",
    "lam = 1.0\n",
    "theta = train1(lam)\n",
    "print (\"Theta:\")\n",
    "print (theta)\n",
    "print ('\\n')\n",
    "\n",
    "print (\"Train sets\")\n",
    "ber,tp,tn,fp,fn = BER(theta,X_train,y_train)\n",
    "print (\"The number of true positives:\\t\" + str(tp))\n",
    "print (\"The number of true negatives:\\t\" + str(tn))\n",
    "print (\"The number of false positives:\\t\" + str(fp))\n",
    "print (\"The number of false negatives:\\t\" + str(fn))\n",
    "print ('The Balanced Error Rate of the classifier:\\tBER =%.2f%%' \n",
    "       % (ber * 100))\n",
    "print ('\\n')\n",
    "\n",
    "print (\"Validation sets\")\n",
    "ber,tp,tn,fp,fn = BER(theta,X_validation,y_validation)\n",
    "print (\"The number of true positives:\\t\" + str(tp))\n",
    "print (\"The number of true negatives:\\t\" + str(tn))\n",
    "print (\"The number of false positives:\\t\" + str(fp))\n",
    "print (\"The number of false negatives:\\t\" + str(fn))\n",
    "print ('The Balanced Error Rate of the classifier:\\tBER = %.2f%%'\n",
    "       % (ber * 100))\n",
    "print ('\\n')\n",
    "\n",
    "print (\"Test sets\")\n",
    "ber,tp,tn,fp,fn = BER(theta,X_test,y_test)\n",
    "print (\"The number of true positives:\\t\" + str(tp))\n",
    "print (\"The number of true negatives:\\t\" + str(tn))\n",
    "print (\"The number of false positives:\\t\" + str(fp))\n",
    "print (\"The number of false negatives:\\t\" + str(fn))\n",
    "print ('The Balanced Error Rate of the classifier:\\tBER =%.2f%%' \n",
    "       % (ber * 100))"
   ]
  },
  {
   "cell_type": "markdown",
   "metadata": {},
   "source": [
    "## Problem 5\n",
    "\n",
    "We can see that there is no obviously different among lambda = [0, 0.01, 0.1, 1, 100]"
   ]
  },
  {
   "cell_type": "code",
   "execution_count": 20,
   "metadata": {},
   "outputs": [
    {
     "name": "stdout",
     "output_type": "stream",
     "text": [
      "Lmabda=0.00:\n",
      "ll =-11551.990911213648\n",
      "ll =-12203.038370611097\n",
      "ll =-11446.105032640478\n",
      "ll =-11394.744218780688\n",
      "ll =-11369.962923716057\n",
      "ll =-11357.662304539635\n",
      "ll =-11351.409160837251\n",
      "ll =-11349.651307371056\n",
      "ll =-11348.45206192654\n",
      "ll =-11347.704938367928\n",
      "theta:\n",
      "[-0.17234443  0.02676684  0.36676928 -0.19405013 -0.1465711   0.24104964\n",
      "  0.00988413 -0.02649154  0.47010122 -0.03975287 -0.09598917]\n",
      "The BER for train sets:\t\tBER = 44.00%\n",
      "The BER for validation sets:\tBER = 43.67%\n",
      "The BER for test sets:\t\tBER = 44.14%\n",
      "\n",
      "\n",
      "Lmabda=0.01:\n",
      "ll =-11551.990911213648\n",
      "ll =-12203.0483706111\n",
      "ll =-11446.10564622349\n",
      "ll =-11394.745707761826\n",
      "ll =-11369.965472119213\n",
      "ll =-11357.665649408862\n",
      "ll =-11351.413293321097\n",
      "ll =-11349.655770016609\n",
      "ll =-11348.456826601841\n",
      "ll =-11347.709995823012\n",
      "theta:\n",
      "[-0.17234123  0.02676342  0.36673279 -0.19402975 -0.14655339  0.24104808\n",
      "  0.00988288 -0.026492    0.47008509 -0.03974767 -0.09598433]\n",
      "The BER for train sets:\t\tBER = 44.00%\n",
      "The BER for validation sets:\tBER = 43.67%\n",
      "The BER for test sets:\t\tBER = 44.14%\n",
      "\n",
      "\n",
      "Lmabda=0.10:\n",
      "ll =-11551.990911213648\n",
      "ll =-12203.138370611096\n",
      "ll =-11446.111168136209\n",
      "ll =-11394.75910736017\n",
      "ll =-11369.988404051655\n",
      "ll =-11357.695746699148\n",
      "ll =-11351.450473873183\n",
      "ll =-11349.695918640144\n",
      "ll =-11348.499689397684\n",
      "ll =-11347.755487918423\n",
      "theta:\n",
      "[-0.17231246  0.02673261  0.36640475 -0.19384653 -0.14639414  0.24103397\n",
      "  0.00987162 -0.02649613  0.46993994 -0.03970094 -0.09594084]\n",
      "The BER for train sets:\t\tBER = 44.00%\n",
      "The BER for validation sets:\tBER = 43.67%\n",
      "The BER for test sets:\t\tBER = 44.14%\n",
      "\n",
      "\n",
      "Lmabda=1.00:\n",
      "ll =-11551.990911213648\n",
      "ll =-12204.0383706111\n",
      "ll =-11446.1663541375\n",
      "ll =-11394.892982016388\n",
      "ll =-11370.217356722245\n",
      "ll =-11357.996071816313\n",
      "ll =-11351.821113572705\n",
      "ll =-11350.095906291543\n",
      "ll =-11348.926420022355\n",
      "ll =-11348.2079556363\n",
      "theta:\n",
      "[-0.17202488  0.02642727  0.36315843 -0.19203621 -0.14481634  0.24089245\n",
      "  0.00976002 -0.02653605  0.46849656 -0.03923761 -0.09551067]\n",
      "The BER for train sets:\t\tBER = 44.00%\n",
      "The BER for validation sets:\tBER = 43.65%\n",
      "The BER for test sets:\t\tBER = 44.16%\n",
      "\n",
      "\n",
      "Lmabda=100.00:\n",
      "ll =-11551.990911213648\n",
      "ll =-12303.038370611097\n",
      "ll =-11451.89115387198\n",
      "ll =-11408.379904832738\n",
      "ll =-11391.918890330744\n",
      "ll =-11385.1988162176\n",
      "ll =-11383.204609984674\n",
      "ll =-11382.848921379762\n",
      "theta:\n",
      "[-0.14489279  0.00724514  0.17377242 -0.09096739 -0.04689564  0.22290511\n",
      "  0.00287928 -0.02557643  0.36981293 -0.01005921 -0.06951783]\n",
      "The BER for train sets:\t\tBER = 43.96%\n",
      "The BER for validation sets:\tBER = 43.65%\n",
      "The BER for test sets:\t\tBER = 44.17%\n",
      "\n",
      "\n"
     ]
    }
   ],
   "source": [
    "for lam in [0, 0.01, 0.1, 1, 100]:\n",
    "    print('Lmabda=%.2f:' % (lam))\n",
    "    theta = train1(lam)\n",
    "    print(\"theta:\")\n",
    "    print(theta)\n",
    "    ber_train,_,_,_,_ = BER(theta,X_train,y_train)\n",
    "    ber_validation,_,_,_,_ = BER(theta,X_validation,y_validation)\n",
    "    ber_test,_,_,_,_ = BER(theta,X_test,y_test)\n",
    "    print ('The BER for train sets:\\t\\tBER = %.2f%%' % \n",
    "           (ber_train * 100))\n",
    "    print ('The BER for validation sets:\\tBER = %.2f%%' % \n",
    "           (ber_validation * 100))\n",
    "    print ('The BER for test sets:\\t\\tBER = %.2f%%' % \n",
    "           (ber_test * 100))\n",
    "    print ('\\n')"
   ]
  },
  {
   "cell_type": "markdown",
   "metadata": {},
   "source": [
    "## Problem 6"
   ]
  },
  {
   "cell_type": "code",
   "execution_count": 21,
   "metadata": {},
   "outputs": [
    {
     "name": "stdout",
     "output_type": "stream",
     "text": [
      "[[ 2.91553267e-04  3.36316078e-03 -4.92016461e-03  1.22605289e-02\n",
      "   8.02994923e-01  2.01250020e-04  5.90516350e-01  7.22369875e-02\n",
      "   1.75711994e-04  3.29456581e-02]\n",
      " [-2.36616086e-03 -8.55889699e-03 -1.91717318e-02  1.45794087e-02\n",
      "  -5.92410182e-01  4.74330032e-04  8.05130166e-01 -4.97366274e-03\n",
      "  -1.28579556e-03  1.14021305e-02]\n",
      " [ 3.99780701e-03  4.58510040e-02  1.01611015e-01  1.87044464e-03\n",
      "  -6.24232301e-02 -5.23321160e-05 -3.73196976e-02  9.90698551e-01\n",
      "   9.18564879e-04  2.79198868e-02]\n",
      " [-1.52012269e-04  2.00218881e-02 -1.04163870e-02  2.44992682e-02\n",
      "  -1.80912429e-02  8.60712007e-05 -2.81132009e-02 -3.02427712e-02\n",
      "   2.45592725e-03  9.98424798e-01]\n",
      " [ 2.55382520e-02  2.24799457e-01  9.67585118e-01  7.19960887e-03\n",
      "  -2.31187652e-03  9.62965425e-03  2.29568098e-02 -1.09118707e-01\n",
      "   9.38463609e-04  2.70997623e-03]\n",
      " [ 3.54769091e-02  9.72027558e-01 -2.29341823e-01  1.34748385e-02\n",
      "  -4.20493294e-03  8.77575267e-03  1.83813401e-03 -2.11898082e-02\n",
      "   7.29985353e-03 -2.28954543e-02]\n",
      " [ 5.66835271e-03 -1.55377546e-02 -3.62210660e-03  9.99363327e-01\n",
      "  -5.81954419e-04  5.54584002e-03 -1.84164136e-02 -8.50413772e-04\n",
      "   2.59682946e-04 -2.48036199e-02]\n",
      " [ 9.96955075e-01 -4.09453361e-02 -1.74561630e-02 -6.65912506e-03\n",
      "  -1.16153723e-03  6.34885323e-02  1.28440550e-03 -3.69526311e-04\n",
      "  -4.48757759e-03  9.63660068e-04]\n",
      " [-6.40484881e-02 -7.96385717e-03 -6.17769008e-03 -5.32627798e-03\n",
      "   2.60276502e-04  9.97852694e-01 -7.26121605e-04  1.31450704e-03\n",
      "  -7.44873354e-03  1.72584485e-04]\n",
      " [ 3.70628217e-03 -7.64907081e-03  5.51204371e-04 -4.79523814e-04\n",
      "  -7.71354670e-04  7.64404986e-03  1.00504146e-03 -5.89435260e-04\n",
      "   9.99930789e-01 -2.29235033e-03]]\n"
     ]
    }
   ],
   "source": [
    "from sklearn.decomposition import PCA\n",
    "\n",
    "y_IPA = [d['beer/style'] == \"American IPA\" for d in data]\n",
    "X_train = X[:int(length/3)]\n",
    "y_train = y_IPA[:int(length/3)]\n",
    "X_train = np.array(X_train)\n",
    "X_train = X_train[:, 1:]\n",
    "\n",
    "pca = PCA(n_components=10)\n",
    "pca.fit(X_train)\n",
    "print (pca.components_)"
   ]
  },
  {
   "cell_type": "markdown",
   "metadata": {},
   "source": [
    "## Problem 7"
   ]
  },
  {
   "cell_type": "code",
   "execution_count": 22,
   "metadata": {
    "scrolled": true
   },
   "outputs": [
    {
     "name": "stdout",
     "output_type": "stream",
     "text": [
      "The reconstruction error is:\t 50.08%\n"
     ]
    }
   ],
   "source": [
    "X_PCA = np.dot(X_train, pca.components_.T)\n",
    "error = sum(sum((X_PCA[:,2:] - np.mean(X_PCA[:,2:],0)) ** 2)) / len(X_PCA)\n",
    "print (\"The reconstruction error is:\\t %.2f%%\" % (error*100))"
   ]
  },
  {
   "cell_type": "markdown",
   "metadata": {},
   "source": [
    "## Problem 8\n",
    "\n",
    "I used the X_train set of the initial unshuffled date to plot this scattarplot"
   ]
  },
  {
   "cell_type": "code",
   "execution_count": 23,
   "metadata": {},
   "outputs": [],
   "source": [
    "X_PCA_2D = np.dot(X_train, pca.components_[:2].T)\n",
    "X_IPA = []\n",
    "X_NOIPA = []\n",
    "for a in range(len(y_train)):\n",
    "    if y_train[a] == True:\n",
    "        X_IPA.append(X_PCA_2D[a])\n",
    "    else:\n",
    "        X_NOIPA.append(X_PCA_2D[a])\n",
    "X_IPA = np.array(X_IPA)\n",
    "X_NOIPA = np.array(X_NOIPA)"
   ]
  },
  {
   "cell_type": "code",
   "execution_count": 24,
   "metadata": {},
   "outputs": [
    {
     "name": "stderr",
     "output_type": "stream",
     "text": [
      "'c' argument looks like a single numeric RGB or RGBA sequence, which should be avoided as value-mapping will have precedence in case its length matches with 'x' & 'y'.  Please use a 2-D array with a single row if you really want to specify the same RGB or RGBA value for all points.\n",
      "'c' argument looks like a single numeric RGB or RGBA sequence, which should be avoided as value-mapping will have precedence in case its length matches with 'x' & 'y'.  Please use a 2-D array with a single row if you really want to specify the same RGB or RGBA value for all points.\n"
     ]
    },
    {
     "data": {
      "image/png": "[encoded data removed]",
      "text/plain": [
       "<Figure size 432x288 with 1 Axes>"
      ]
     },
     "metadata": {
      "needs_background": "light"
     },
     "output_type": "display_data"
    }
   ],
   "source": [
    "# Plot\n",
    "red = (1,0,0)\n",
    "blue = (0,0,1)\n",
    "plt.scatter(X_NOIPA[:,0],X_NOIPA[:,1], c=blue, alpha=0.5)\n",
    "plt.scatter(X_IPA[:,0],X_IPA[:,1], c=red, alpha=0.5)\n",
    "plt.xlabel('x')\n",
    "plt.ylabel('y')\n",
    "plt.legend(['Others','American IPA'])\n",
    "plt.show()"
   ]
  },
  {
   "cell_type": "code",
   "execution_count": null,
   "metadata": {},
   "outputs": [],
   "source": []
  }
 ],
 "metadata": {
  "kernelspec": {
   "display_name": "Python 3",
   "language": "python",
   "name": "python3"
  },
  "language_info": {
   "codemirror_mode": {
    "name": "ipython",
    "version": 3
   },
   "file_extension": ".py",
   "mimetype": "text/x-python",
   "name": "python",
   "nbconvert_exporter": "python",
   "pygments_lexer": "ipython3",
   "version": "3.7.3"
  }
 },
 "nbformat": 4,
 "nbformat_minor": 2
}
